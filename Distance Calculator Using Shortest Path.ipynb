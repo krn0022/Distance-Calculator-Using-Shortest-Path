{
 "cells": [
  {
   "cell_type": "code",
   "execution_count": null,
   "id": "ee55e1a2-ad33-4e3f-b17e-8e67312c1d41",
   "metadata": {},
   "outputs": [
    {
     "name": "stdout",
     "output_type": "stream",
     "text": [
      "=== Distance Calculator Using Shortest Path ===\n"
     ]
    }
   ],
   "source": [
    "import heapq\n",
    "\n",
    "def dijkstra(graph, start):\n",
    "    queue = [(0, start)]  # (distance, vertex)\n",
    "    distances = {vertex: float('infinity') for vertex in graph}\n",
    "    distances[start] = 0\n",
    "\n",
    "    while queue:\n",
    "        current_distance, current_vertex = heapq.heappop(queue)\n",
    "\n",
    "        if current_distance > distances[current_vertex]:\n",
    "            continue\n",
    "\n",
    "        for neighbor, weight in graph[current_vertex].items():\n",
    "            distance = current_distance + weight\n",
    "\n",
    "            if distance < distances[neighbor]:\n",
    "                distances[neighbor] = distance\n",
    "                heapq.heappush(queue, (distance, neighbor))\n",
    "\n",
    "    return distances\n",
    "\n",
    "def main():\n",
    "    print(\"=== Distance Calculator Using Shortest Path ===\")\n",
    "    \n",
    "    a = float(input(\"Enter distance A to B: \"))\n",
    "    b = float(input(\"Enter distance B to C: \"))\n",
    "    c = float(input(\"Enter distance C to A: \"))\n",
    "\n",
    "    graph = {\n",
    "        'A': {'B': a, 'C': c},\n",
    "        'B': {'A': a, 'C': b},\n",
    "        'C': {'A': c, 'B': b}\n",
    "    }\n",
    "\n",
    "    distances = dijkstra(graph, 'A')\n",
    "\n",
    "    print(f\"Shortest distance from A to B: {distances['B']}\")\n",
    "    print(f\"Shortest distance from A to C: {distances['C']}\")\n",
    "    print(f\"Shortest distance from B to C: {distances['C'] + distances['A']}\")\n",
    "\n",
    "if __name__ == \"__main__\":\n",
    "    main()\n"
   ]
  },
  {
   "cell_type": "code",
   "execution_count": null,
   "id": "8cb67b9f-4f6f-4ddd-8f5f-9883bb8c4713",
   "metadata": {},
   "outputs": [],
   "source": []
  }
 ],
 "metadata": {
  "kernelspec": {
   "display_name": "Python 3 (ipykernel)",
   "language": "python",
   "name": "python3"
  },
  "language_info": {
   "codemirror_mode": {
    "name": "ipython",
    "version": 3
   },
   "file_extension": ".py",
   "mimetype": "text/x-python",
   "name": "python",
   "nbconvert_exporter": "python",
   "pygments_lexer": "ipython3",
   "version": "3.12.4"
  }
 },
 "nbformat": 4,
 "nbformat_minor": 5
}
